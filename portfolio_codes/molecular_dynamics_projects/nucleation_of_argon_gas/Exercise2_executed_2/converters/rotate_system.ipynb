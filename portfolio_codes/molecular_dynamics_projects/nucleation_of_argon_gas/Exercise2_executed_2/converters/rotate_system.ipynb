{
 "cells": [
  {
   "cell_type": "code",
   "execution_count": 8,
   "metadata": {},
   "outputs": [],
   "source": [
    "import MDAnalysis\n",
    "import MDAnalysis.transformations"
   ]
  },
  {
   "attachments": {},
   "cell_type": "markdown",
   "metadata": {},
   "source": [
    "# Rotate after energy minimization "
   ]
  },
  {
   "cell_type": "code",
   "execution_count": 9,
   "metadata": {},
   "outputs": [
    {
     "data": {
      "text/plain": [
       "<Universe with 8192 atoms>"
      ]
     },
     "execution_count": 9,
     "metadata": {},
     "output_type": "execute_result"
    }
   ],
   "source": [
    "universe = MDAnalysis.Universe(\"../10nm/10nm_8192.gro\", \"../10nm/10nm_8192.xtc\" )\n",
    "universe"
   ]
  },
  {
   "cell_type": "code",
   "execution_count": 10,
   "metadata": {},
   "outputs": [],
   "source": [
    "# Apply transformation: rotate the whole system by -90 degrees around x-axis\n",
    "angle =-90 \n",
    "d = [1, 0,0]\n",
    "point =  [0,0,0]     # from Ovito affine transformations\n",
    "\n",
    "\n",
    "workflow = [MDAnalysis.transformations.rotate.rotateby(angle=angle, direction = d,  point = point  ), \n",
    "            MDAnalysis.transformations.translate([0,0,100])] \n",
    "\n",
    "universe.trajectory.add_transformations(*workflow)"
   ]
  },
  {
   "cell_type": "code",
   "execution_count": 11,
   "metadata": {},
   "outputs": [],
   "source": [
    "with MDAnalysis.Writer(\"rotated_trj_problem3.xtc\",universe.atoms.n_atoms) as W: \n",
    "    for ts in universe.trajectory: \n",
    "        W.write(universe)\n"
   ]
  },
  {
   "attachments": {},
   "cell_type": "markdown",
   "metadata": {},
   "source": [
    "# Rotate before energy minimization "
   ]
  },
  {
   "cell_type": "code",
   "execution_count": 14,
   "metadata": {},
   "outputs": [
    {
     "name": "stderr",
     "output_type": "stream",
     "text": [
      "/usr/local/lib/python3.10/dist-packages/MDAnalysis/topology/guessers.py:146: UserWarning: Failed to guess the mass for the following atom types: A\n",
      "  warnings.warn(\"Failed to guess the mass for the following atom types: {}\".format(atom_type))\n"
     ]
    }
   ],
   "source": [
    "universe = MDAnalysis.Universe(\"../10nm/10nm.gro\")"
   ]
  },
  {
   "cell_type": "code",
   "execution_count": 15,
   "metadata": {},
   "outputs": [],
   "source": [
    "\n",
    "\n",
    "# Apply transformation: rotate the whole system by -90 degrees around x-axis\n",
    "angle =-90 \n",
    "d = [1, 0,0]\n",
    "point =  [0,0,0]     # from Ovito affine transformations\n",
    "\n",
    "\n",
    "workflow = [MDAnalysis.transformations.rotate.rotateby(angle=angle, direction = d,  point = point  ), \n",
    "            MDAnalysis.transformations.translate([0,0,100])] \n",
    "\n",
    "universe.trajectory.add_transformations(*workflow)\n",
    "\n",
    "\n",
    "with MDAnalysis.Writer(\"10nm_rotated.gro\",universe.atoms.n_atoms) as W: \n",
    "    for ts in universe.trajectory: \n",
    "        W.write(universe)\n"
   ]
  },
  {
   "cell_type": "code",
   "execution_count": null,
   "metadata": {},
   "outputs": [],
   "source": []
  }
 ],
 "metadata": {
  "kernelspec": {
   "display_name": "Python 3",
   "language": "python",
   "name": "python3"
  },
  "language_info": {
   "codemirror_mode": {
    "name": "ipython",
    "version": 3
   },
   "file_extension": ".py",
   "mimetype": "text/x-python",
   "name": "python",
   "nbconvert_exporter": "python",
   "pygments_lexer": "ipython3",
   "version": "3.10.6"
  },
  "orig_nbformat": 4
 },
 "nbformat": 4,
 "nbformat_minor": 2
}
