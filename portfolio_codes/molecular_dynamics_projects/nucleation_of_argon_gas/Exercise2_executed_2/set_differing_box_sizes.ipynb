{
 "cells": [
  {
   "cell_type": "code",
   "execution_count": 52,
   "metadata": {},
   "outputs": [],
   "source": [
    "import pathlib \n",
    "import re \n",
    "import random "
   ]
  },
  {
   "attachments": {},
   "cell_type": "markdown",
   "metadata": {},
   "source": [
    "# Preparing paths "
   ]
  },
  {
   "cell_type": "code",
   "execution_count": 53,
   "metadata": {},
   "outputs": [
    {
     "data": {
      "text/plain": [
       "[PosixPath('12.5nm'),\n",
       " PosixPath('11nm'),\n",
       " PosixPath('10.5nm'),\n",
       " PosixPath('14nm'),\n",
       " PosixPath('12nm'),\n",
       " PosixPath('13.5nm'),\n",
       " PosixPath('14.5nm'),\n",
       " PosixPath('13nm'),\n",
       " PosixPath('11.5nm')]"
      ]
     },
     "execution_count": 53,
     "metadata": {},
     "output_type": "execute_result"
    }
   ],
   "source": [
    "listOfFolders = list(pathlib.Path('.').glob(\"*nm\")) # list of folders \n",
    "listOfFolders_excl_exec = []       # list of folders not executed yet \n",
    "\n",
    "\n",
    "# excluding 15nm and 10nm folders, since they are already executed \n",
    "for i in range(len(listOfFolders)): \n",
    "    if str(listOfFolders[i])==\"10nm\" or str(listOfFolders[i])==\"15nm\": \n",
    "        continue\n",
    "    else: \n",
    "        listOfFolders_excl_exec.append(listOfFolders[i])\n",
    "\n",
    "listOfFolders_excl_exec"
   ]
  },
  {
   "attachments": {},
   "cell_type": "markdown",
   "metadata": {},
   "source": [
    "# Functions "
   ]
  },
  {
   "attachments": {},
   "cell_type": "markdown",
   "metadata": {},
   "source": [
    "### ar8192.inp template"
   ]
  },
  {
   "cell_type": "code",
   "execution_count": 54,
   "metadata": {},
   "outputs": [],
   "source": [
    "\n",
    "def render_ar8192_inp(box_size: float): \n",
    "    '''render ar8192.inp with differing box sizes\n",
    "    \n",
    "    box_size: in nm \n",
    "    \n",
    "    '''\n",
    "\n",
    "    box_size_å = box_size*10  # Ångström \n",
    "    file = f'''#\n",
    "# Lipid double layer with water over and below\n",
    "#\n",
    "\n",
    "# Every atom from diferent molecules will be far from each other at\n",
    "# least 2.0 Angstrons at the solution.\n",
    "\n",
    "tolerance 2.0\n",
    "\n",
    "seed {random.randint(1, 80000)}\n",
    "nloop0 100\n",
    "\n",
    "# Coordinate file types will be in pdb format (keyword not required for\n",
    "# pdb file format, but required for tinker, xyz or moldy).\n",
    "\n",
    "filetype pdb\n",
    "\n",
    "# The output pdb file\n",
    "\n",
    "output {box_size}nm.pdb\n",
    "\n",
    "\n",
    "structure Ar.pdb\n",
    "  number 8192\n",
    "  inside box 0. 0. 0. {box_size_å} {box_size_å} {box_size_å}\n",
    "end structure\n",
    "'''\n",
    "    return file "
   ]
  },
  {
   "attachments": {},
   "cell_type": "markdown",
   "metadata": {},
   "source": [
    "### execute_packmol_locally.sh template "
   ]
  },
  {
   "cell_type": "code",
   "execution_count": 55,
   "metadata": {},
   "outputs": [],
   "source": [
    "def render_execute_packmol_locally_sh(): \n",
    "    file = \"#!/bin/bash\\n\"\n",
    "\n",
    "    for folder in listOfFolders_excl_exec: \n",
    "        file+= f\"cd {str(folder)}\\n\"\n",
    "        file+= \"./packmol < ar8192.inp\\n\"\n",
    "        file+= \"cd ..\\n\"  \n",
    "    return file "
   ]
  },
  {
   "attachments": {},
   "cell_type": "markdown",
   "metadata": {},
   "source": [
    "### run.sh template"
   ]
  },
  {
   "cell_type": "code",
   "execution_count": 56,
   "metadata": {},
   "outputs": [],
   "source": [
    "def render_run_sh(box_size: float): \n",
    "    \n",
    "    # formatting \n",
    "    try: # integer \n",
    "        box_size= int(str(box_size))\n",
    "    except ValueError:  # float \n",
    "        box_size= float(str(box_size))\n",
    "\n",
    "        \n",
    "\n",
    "    file_1part = '''#!/bin/bash\n",
    "#SBATCH --job-name=slab1\n",
    "#SBATCH --account=project_2008684\n",
    "#SBATCH --time=01:00:00\n",
    "#SBATCH --partition=small\n",
    "#SBATCH --ntasks=1\n",
    "#SBATCH --cpus-per-task=8\n",
    "\n",
    "set -o errexit\n",
    "\n",
    "module load gromacs-env'''\n",
    "\n",
    "\n",
    "    file_2part = f'''\n",
    "\n",
    "\n",
    "x={box_size} # nm''' \n",
    "    \n",
    "    file_3part =''' \n",
    "export OMP_NUM_THREADS=${SLURM_CPUS_PER_TASK}\n",
    "\n",
    "\n",
    "\n",
    "# convert to gro and add pbc\n",
    "gmx_mpi editconf -f ${x}nm.pdb -box $x $x $x -o ${x}nm.gro\n",
    "\n",
    "# prepare energy minimization\n",
    "gmx_mpi grompp -f steep.mdp -c ${x}nm.gro -p LJ8192.top -o ${x}nm_steep.tpr\n",
    "\n",
    "# run energy minimization\n",
    "srun gmx_mpi mdrun -s -deffnm ${x}nm_steep\n",
    "\n",
    "# prepare NVT simulation\n",
    "gmx_mpi grompp -f NVT.mdp -c ${x}nm_steep.gro -p LJ8192.top -o ${x}nm_8192.tpr\n",
    "\n",
    "# run NVT simulation\n",
    "srun gmx_mpi mdrun -s -deffnm ${x}nm_8192 -ntomp $OMP_NUM_THREADS\n",
    "\n",
    "\n",
    "# analyse spinodal\n",
    "# gmx_mpi density -f ${x}nm_8192.gro -s ${x}nm_8192.tpr -d Y -sl 100 -o density_afterNVT.xvg\n",
    "\n",
    "'''\n",
    "    return file_1part+file_2part+file_3part\n",
    "\n",
    "\n",
    "\n"
   ]
  },
  {
   "attachments": {},
   "cell_type": "markdown",
   "metadata": {},
   "source": [
    "### execute_runs.sh template"
   ]
  },
  {
   "cell_type": "code",
   "execution_count": 57,
   "metadata": {},
   "outputs": [],
   "source": [
    "def render_execute_runs_sh(): \n",
    "    file = '''#!/bin/bash\n",
    "# executing each run.sh in each folders \n",
    "\n",
    "cd ..\n",
    "chmod -R u+x Exercise2      # s.t. we can execute our .sh scripts \n",
    "cd Exercise2             # move to the folder to start with \n",
    "\n",
    "'''\n",
    "    \n",
    "    for folder in listOfFolders_excl_exec: \n",
    "        file+= f\"cd {str(folder)}\\n\"\n",
    "        file+= \"sbatch run.sh\\n\"\n",
    "        file+= \"cd ..\\n\"  \n",
    "\n",
    "    return file \n"
   ]
  },
  {
   "cell_type": "code",
   "execution_count": 58,
   "metadata": {},
   "outputs": [
    {
     "data": {
      "text/plain": [
       "[PosixPath('12.5nm'),\n",
       " PosixPath('11nm'),\n",
       " PosixPath('10.5nm'),\n",
       " PosixPath('14nm'),\n",
       " PosixPath('12nm'),\n",
       " PosixPath('13.5nm'),\n",
       " PosixPath('14.5nm'),\n",
       " PosixPath('13nm'),\n",
       " PosixPath('11.5nm')]"
      ]
     },
     "execution_count": 58,
     "metadata": {},
     "output_type": "execute_result"
    }
   ],
   "source": [
    "listOfFolders_excl_exec"
   ]
  },
  {
   "attachments": {},
   "cell_type": "markdown",
   "metadata": {},
   "source": [
    "# Execution "
   ]
  },
  {
   "attachments": {},
   "cell_type": "markdown",
   "metadata": {},
   "source": [
    "### Create ar8192.inp for each distances (excl. already executed distances)"
   ]
  },
  {
   "cell_type": "code",
   "execution_count": 59,
   "metadata": {},
   "outputs": [
    {
     "data": {
      "text/plain": [
       "[PosixPath('12.5nm'),\n",
       " PosixPath('11nm'),\n",
       " PosixPath('10.5nm'),\n",
       " PosixPath('14nm'),\n",
       " PosixPath('12nm'),\n",
       " PosixPath('13.5nm'),\n",
       " PosixPath('14.5nm'),\n",
       " PosixPath('13nm'),\n",
       " PosixPath('11.5nm')]"
      ]
     },
     "execution_count": 59,
     "metadata": {},
     "output_type": "execute_result"
    }
   ],
   "source": [
    "listOfFolders_excl_exec"
   ]
  },
  {
   "cell_type": "code",
   "execution_count": 60,
   "metadata": {},
   "outputs": [],
   "source": [
    "for nm_folder in listOfFolders_excl_exec: \n",
    "    length = float(re.search(r'(\\d+\\.?\\d?)', str(nm_folder)).groups()[0]) # length of the box \n",
    "    \n",
    "    # write to file \n",
    "    with open(str(nm_folder/\"ar8192.inp\"), 'w') as file: \n",
    "        file.write(render_ar8192_inp(length))"
   ]
  },
  {
   "attachments": {},
   "cell_type": "markdown",
   "metadata": {},
   "source": [
    "### Create .sh files for each distances (excl. already executed distances)"
   ]
  },
  {
   "cell_type": "code",
   "execution_count": 61,
   "metadata": {},
   "outputs": [],
   "source": [
    "for nm_folder in listOfFolders_excl_exec: \n",
    "    length = float(re.search(r'(\\d+\\.?\\d?)', str(nm_folder)).groups()[0]) # length of the box \n",
    "    \n",
    "    # write to file \n",
    "    with open(str(nm_folder/\"run.sh\"), 'w') as file: \n",
    "        file.write(render_run_sh(length))"
   ]
  },
  {
   "attachments": {},
   "cell_type": "markdown",
   "metadata": {},
   "source": [
    "### Create main .sh file for executing all run.sh under each distances "
   ]
  },
  {
   "cell_type": "code",
   "execution_count": 62,
   "metadata": {},
   "outputs": [],
   "source": [
    "with open(\"execute_runs.sh\", \"w\") as file: \n",
    "    file.write(render_execute_runs_sh())"
   ]
  },
  {
   "attachments": {},
   "cell_type": "markdown",
   "metadata": {},
   "source": [
    "### Create .sh file for running packmol to generate .pdb files "
   ]
  },
  {
   "cell_type": "code",
   "execution_count": 63,
   "metadata": {},
   "outputs": [],
   "source": [
    "with open(\"execute_packmol_locally.sh\", \"w\") as file: \n",
    "    file.write(render_execute_packmol_locally_sh())\n"
   ]
  }
 ],
 "metadata": {
  "kernelspec": {
   "display_name": "Python 3",
   "language": "python",
   "name": "python3"
  },
  "language_info": {
   "codemirror_mode": {
    "name": "ipython",
    "version": 3
   },
   "file_extension": ".py",
   "mimetype": "text/x-python",
   "name": "python",
   "nbconvert_exporter": "python",
   "pygments_lexer": "ipython3",
   "version": "3.10.6"
  },
  "orig_nbformat": 4
 },
 "nbformat": 4,
 "nbformat_minor": 2
}
