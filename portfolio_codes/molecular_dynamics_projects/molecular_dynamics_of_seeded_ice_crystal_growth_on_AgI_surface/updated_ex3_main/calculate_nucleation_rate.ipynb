{
 "cells": [
  {
   "cell_type": "code",
   "execution_count": 1,
   "metadata": {},
   "outputs": [],
   "source": [
    "import molecular_volume \n",
    "import Seeded_MD as seeded \n",
    "import numpy as np \n"
   ]
  },
  {
   "cell_type": "code",
   "execution_count": 2,
   "metadata": {},
   "outputs": [
    {
     "name": "stdout",
     "output_type": "stream",
     "text": [
      "nucleation rate (ignoring the constant factor): 2.7457904789145115e-14\n"
     ]
    }
   ],
   "source": [
    "chemical_potential_per_unit_volume = seeded.mu(seeded.T)/molecular_volume.v_ice(seeded.T ) \n",
    "\n",
    "deltaG_N  = 16*np.pi/3 * (seeded.gamma_icewater(T= seeded.T ) **3 /chemical_potential_per_unit_volume **2 )\n",
    "\n",
    "\n",
    "nucleation_rate = np.exp(- deltaG_N* seeded.f(seeded.theta)/(seeded.kb*seeded.T) )\n",
    "\n",
    "print(\"nucleation rate (ignoring the constant factor):\", nucleation_rate)"
   ]
  }
 ],
 "metadata": {
  "kernelspec": {
   "display_name": "Python 3",
   "language": "python",
   "name": "python3"
  },
  "language_info": {
   "codemirror_mode": {
    "name": "ipython",
    "version": 3
   },
   "file_extension": ".py",
   "mimetype": "text/x-python",
   "name": "python",
   "nbconvert_exporter": "python",
   "pygments_lexer": "ipython3",
   "version": "3.10.6"
  },
  "orig_nbformat": 4
 },
 "nbformat": 4,
 "nbformat_minor": 2
}
