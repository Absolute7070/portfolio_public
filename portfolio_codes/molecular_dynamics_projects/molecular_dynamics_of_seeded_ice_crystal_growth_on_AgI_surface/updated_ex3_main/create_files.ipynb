{
 "cells": [
  {
   "cell_type": "code",
   "execution_count": 4,
   "metadata": {},
   "outputs": [],
   "source": [
    "import pathlib \n",
    "import numpy as np "
   ]
  },
  {
   "cell_type": "code",
   "execution_count": 5,
   "metadata": {},
   "outputs": [
    {
     "data": {
      "text/plain": [
       "array([220, 225, 230])"
      ]
     },
     "execution_count": 5,
     "metadata": {},
     "output_type": "execute_result"
    }
   ],
   "source": [
    "T_0 = 253  # initial temperature \n",
    "\n",
    "temperatures = np.arange(220,  235, 5 ) \n",
    "temperatures"
   ]
  },
  {
   "cell_type": "code",
   "execution_count": 6,
   "metadata": {},
   "outputs": [
    {
     "data": {
      "text/plain": [
       "-33.14999999999998"
      ]
     },
     "execution_count": 6,
     "metadata": {},
     "output_type": "execute_result"
    }
   ],
   "source": [
    "240-273.15"
   ]
  },
  {
   "attachments": {},
   "cell_type": "markdown",
   "metadata": {},
   "source": [
    "# Templates "
   ]
  },
  {
   "attachments": {},
   "cell_type": "markdown",
   "metadata": {},
   "source": [
    "### nvt.mdp "
   ]
  },
  {
   "cell_type": "code",
   "execution_count": 7,
   "metadata": {},
   "outputs": [],
   "source": [
    "def render_nvt_mdp(temperature: int): \n",
    "    file = f'''title       = Umbrella equilibration\n",
    "define      = -DFLEXIBLE\n",
    "; Run parameters\n",
    "integrator  = md\n",
    "dt          = 0.002\n",
    "tinit       = 0\n",
    "nsteps      = 1000000     ; 2000 ps\n",
    "nstcomm     = 10\n",
    "; Output parameters\n",
    "nstvout             = 25000  ; every 25 ps\n",
    "nstfout             = 25000\n",
    "nstxout-compressed  = 25000\n",
    "nstenergy           = 2500\n",
    "; Bond parameters\n",
    "; Single-range cutoff scheme\n",
    "cutoff-scheme   = Verlet\n",
    "nstlist         = 100\n",
    "ns_type         = grid\n",
    "rlist           = 1.2\n",
    "rcoulomb        = 1.2\n",
    "rvdw            = 1.2\n",
    "; PME electrostatics parameters\n",
    "coulombtype     = PME\n",
    "fourierspacing  = 0.12\n",
    "fourier_nx      = 0\n",
    "fourier_ny      = 0\n",
    "fourier_nz      = 0\n",
    "pme_order       = 4\n",
    "ewald_rtol      = 1e-5\n",
    "optimize_fft    = yes\n",
    "; Langevin dynamics is a thermostat\n",
    "; tau -t is the inverse friction coefficient\n",
    "tcoupl\t    = Nose-Hoover\n",
    "tc_grps     = Water non-Water\n",
    "tau_t       = 0.4     10\n",
    "ref_t       = {temperature}     {temperature}\n",
    "; Pressure coupling is on\n",
    "Pcoupl          = no\n",
    "refcoord_scaling = com\n",
    "; Generate velocities is off\n",
    "; Periodic boundary conditions are on in all directions\n",
    "pbc     = xyz\n",
    "; Long-range dispersion correction\n",
    "DispCorr    = EnerPres\n",
    "gen_vel                  = yes\n",
    "gen_temp                 = 253\n",
    "gen_seed                 = -1\n",
    ";pcoupl                   = No ; berendsen\n",
    ";pcoupltype               = anisotropic\n",
    ";tau-p                    = 4.0\n",
    ";compressibility          = 5.0e-5 5.0e-5 5.0e-5 0.0 0.0 0.0\n",
    ";ref-p                    = 0.0 0.0 0.0 0.0 0.0 0.0\n",
    "constraints              = hbonds\n",
    "constraint-algorithm     = lincs\n",
    "lincs-order              = 4\n",
    "lincs-iter               = 1\n",
    "continuation             = no\n",
    "freezegrps               = non-Water\n",
    "freezedim                = Y Y Y\n",
    "\n",
    "'''\n",
    "    return file "
   ]
  },
  {
   "attachments": {},
   "cell_type": "markdown",
   "metadata": {},
   "source": [
    "### run.sh "
   ]
  },
  {
   "cell_type": "code",
   "execution_count": 8,
   "metadata": {},
   "outputs": [],
   "source": [
    "# def render_run_sh(temperatures): \n",
    "#     file = f'''#!/bin/bash\n",
    "# #SBATCH --job-name=slab1\n",
    "# #SBATCH --account=project_2008684\n",
    "# #SBATCH --time=01:00:00\n",
    "# #SBATCH --partition=small\n",
    "# #SBATCH --ntasks=1\n",
    "# #SBATCH --cpus-per-task=8\n",
    "\n",
    "# set -o errexit\n",
    "\n",
    "# module load gromacs-env\n",
    "\n",
    "# '''\n",
    "#     for temperature in temperatures: \n",
    "#         executions = f'''\n",
    "# gmx_mpi grompp -f nvt_{temperature}.mdp -c minimized.gro -p topol.top -n index2.ndx -o {temperature}nvt.tpr\n",
    "# srun gmx_mpi mdrun -v -deffnm {temperature}nvt\n",
    "#     '''\n",
    "#         file = file+executions\n",
    "    \n",
    "#     return file "
   ]
  },
  {
   "cell_type": "code",
   "execution_count": 9,
   "metadata": {},
   "outputs": [],
   "source": [
    "def render_run_sh_sbatch(temperature): \n",
    "    file = '''#!/bin/bash\n",
    "#SBATCH --job-name=slab1\n",
    "#SBATCH --account=project_2008684\n",
    "#SBATCH --time=20:00:00\n",
    "#SBATCH --partition=small\n",
    "#SBATCH --ntasks=1\n",
    "#SBATCH --cpus-per-task=8\n",
    "\n",
    "set -o errexit\n",
    "\n",
    "module load gromacs-env\n",
    "\n",
    "export OMP_NUM_THREADS=${SLURM_CPUS_PER_TASK}\n",
    "\n",
    "\n",
    "'''\n",
    "\n",
    "    executions = f'''\n",
    "gmx_mpi grompp -f nvt_{temperature}.mdp -c minimized.gro -p topol.top -n index2.ndx -o {temperature}nvt.tpr\n",
    "srun gmx_mpi mdrun -v -deffnm {temperature}nvt -ntomp $OMP_NUM_THREADS\n",
    "'''\n",
    "    \n",
    "    \n",
    "    file = file+executions\n",
    "    \n",
    "    return file "
   ]
  },
  {
   "cell_type": "code",
   "execution_count": 10,
   "metadata": {},
   "outputs": [
    {
     "name": "stdout",
     "output_type": "stream",
     "text": [
      "#!/bin/bash\n",
      "#SBATCH --job-name=slab1\n",
      "#SBATCH --account=project_2008684\n",
      "#SBATCH --time=20:00:00\n",
      "#SBATCH --partition=small\n",
      "#SBATCH --ntasks=1\n",
      "#SBATCH --cpus-per-task=8\n",
      "\n",
      "set -o errexit\n",
      "\n",
      "module load gromacs-env\n",
      "\n",
      "export OMP_NUM_THREADS=${SLURM_CPUS_PER_TASK}\n",
      "\n",
      "\n",
      "\n",
      "gmx_mpi grompp -f nvt_200.mdp -c minimized.gro -p topol.top -n index2.ndx -o 200nvt.tpr\n",
      "srun gmx_mpi mdrun -v -deffnm 200nvt -ntomp $OMP_NUM_THREADS\n",
      "\n"
     ]
    }
   ],
   "source": [
    "print(render_run_sh_sbatch(temperature=200))"
   ]
  },
  {
   "attachments": {},
   "cell_type": "markdown",
   "metadata": {},
   "source": [
    "# Execution "
   ]
  },
  {
   "cell_type": "code",
   "execution_count": 11,
   "metadata": {},
   "outputs": [],
   "source": [
    "# remove pre-existing .mdp files \n",
    "old_mdp_paths = list(pathlib.Path(\".\").glob(\"nvt_*.mdp\"))\n",
    "for old_mdp_path in old_mdp_paths: \n",
    "    old_mdp_path.unlink()\n",
    "\n",
    "\n",
    "\n",
    "# remove pre-existing .sh files \n",
    "old_paths = list(pathlib.Path(\".\").glob(\"run_*.sh\"))\n",
    "for old_path in old_paths: \n",
    "    old_path.unlink()\n"
   ]
  },
  {
   "cell_type": "code",
   "execution_count": 12,
   "metadata": {},
   "outputs": [],
   "source": [
    "# create input files with different temperatures \n",
    "for temperature in temperatures: \n",
    "    input = f\"nvt_{temperature}.mdp\"\n",
    "    with open(input, \"w\") as file: \n",
    "        file.write(render_nvt_mdp(temperature))\n",
    "\n"
   ]
  },
  {
   "cell_type": "code",
   "execution_count": 13,
   "metadata": {},
   "outputs": [],
   "source": [
    "# create run_{temperature}.sh files\n",
    "\n",
    "for temperature in temperatures: \n",
    "    with open(f\"run_{temperature}.sh\", 'w') as file: \n",
    "        file.write(render_run_sh_sbatch(temperature=temperature))\n"
   ]
  }
 ],
 "metadata": {
  "kernelspec": {
   "display_name": "Python 3",
   "language": "python",
   "name": "python3"
  },
  "language_info": {
   "codemirror_mode": {
    "name": "ipython",
    "version": 3
   },
   "file_extension": ".py",
   "mimetype": "text/x-python",
   "name": "python",
   "nbconvert_exporter": "python",
   "pygments_lexer": "ipython3",
   "version": "3.10.6"
  },
  "orig_nbformat": 4
 },
 "nbformat": 4,
 "nbformat_minor": 2
}
